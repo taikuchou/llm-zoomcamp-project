{
 "cells": [
  {
   "cell_type": "code",
   "execution_count": 1,
   "id": "583e05eb-fcf3-408d-b6f6-e180fb49cf9b",
   "metadata": {},
   "outputs": [],
   "source": [
    "from openai import OpenAI"
   ]
  },
  {
   "cell_type": "code",
   "execution_count": 2,
   "id": "6e9fdd8c-7360-4d45-ab83-45c2e48c76bc",
   "metadata": {},
   "outputs": [],
   "source": [
    "client = OpenAI(\n",
    "    base_url='http://localhost:11434/v1/',\n",
    "    api_key='ollama',\n",
    ")"
   ]
  },
  {
   "cell_type": "code",
   "execution_count": 3,
   "id": "a64fc01f-4d01-4a2c-85ab-1d412a251099",
   "metadata": {},
   "outputs": [
    {
     "name": "stderr",
     "output_type": "stream",
     "text": [
      "/Users/crystalbravo/opt/anaconda3/lib/python3.9/site-packages/sentence_transformers/cross_encoder/CrossEncoder.py:11: TqdmExperimentalWarning: Using `tqdm.autonotebook.tqdm` in notebook mode. Use `tqdm.tqdm` instead to force console mode (e.g. in jupyter console)\n",
      "  from tqdm.autonotebook import tqdm, trange\n"
     ]
    }
   ],
   "source": [
    "from tqdm import tqdm\n",
    "from sentence_transformers import SentenceTransformer"
   ]
  },
  {
   "cell_type": "code",
   "execution_count": 4,
   "id": "7122b8b0-4dbb-4178-aea7-6323515c778a",
   "metadata": {},
   "outputs": [],
   "source": [
    "index_name = \"movie-questions\"\n",
    "model_name = \"multi-qa-distilbert-cos-v1\"\n",
    "model = SentenceTransformer(model_name)"
   ]
  },
  {
   "cell_type": "code",
   "execution_count": 5,
   "id": "c7a4b16c-0c22-4d37-befb-7c48c3da4285",
   "metadata": {},
   "outputs": [],
   "source": [
    "from elasticsearch import Elasticsearch\n",
    "\n",
    "es_client = Elasticsearch('http://localhost:9200') \n"
   ]
  },
  {
   "cell_type": "code",
   "execution_count": 6,
   "id": "153a8e06-dce5-4162-9316-0ddfd6e38346",
   "metadata": {},
   "outputs": [],
   "source": [
    "def hybrid_search_with_rrf(query, k=60):\n",
    "\n",
    "        query_vector = model.encode(query)\n",
    "        keyword_query = {\n",
    "        \"bool\": {\n",
    "            \"must\": {\n",
    "                 \"multi_match\": {\n",
    "                     \"query\": query,\n",
    "                        \"fields\": [\"title\", \"summary\", \"genres\"],\n",
    "                        \"type\": \"best_fields\",\n",
    "                        \"boost\": 0.5\n",
    "                    }\n",
    "                },\n",
    "            }\n",
    "        }\n",
    "    \n",
    "        knn_query = {\n",
    "            \"field\": \"title_summary_genres_vector\",\n",
    "            \"query_vector\": query_vector,\n",
    "            \"k\": 20,\n",
    "            \"num_candidates\": 100,\n",
    "            \"boost\": 0.5\n",
    "        }\n",
    "        #Hybrid search: combining both text and vector search (at least evaluating it)\n",
    "\n",
    "        knn_results = es_client.search(\n",
    "            index=index_name,\n",
    "            body={\n",
    "                \"knn\": knn_query,\n",
    "                \"size\": 10\n",
    "            }\n",
    "        )['hits']['hits']\n",
    "\n",
    "        keyword_results = es_client.search(\n",
    "            index=index_name,\n",
    "            body={\n",
    "                \"query\": keyword_query,\n",
    "                \"size\": 10\n",
    "            }\n",
    "        )['hits']['hits']\n",
    "\n",
    "        rrf_scores = {}\n",
    "        # Calculate RRF using vector search results\n",
    "        for rank, hit in enumerate(knn_results):\n",
    "            doc_id = hit['_id']\n",
    "            rrf_scores[doc_id] = compute_rrf(rank + 1, k)\n",
    "\n",
    "        # Adding keyword search result scores\n",
    "        for rank, hit in enumerate(keyword_results):\n",
    "            doc_id = hit['_id']\n",
    "            if doc_id in rrf_scores:\n",
    "                rrf_scores[doc_id] += compute_rrf(rank + 1, k)\n",
    "            else:\n",
    "                rrf_scores[doc_id] = compute_rrf(rank + 1, k)\n",
    "\n",
    "        # Sort RRF scores in descending order\n",
    "        reranked_docs = sorted(rrf_scores.items(), key=lambda x: x[1], reverse=True)\n",
    "\n",
    "        # Document re-ranking (1 point)\n",
    "        # Get top-K documents by the score\n",
    "        final_results = []\n",
    "        for doc_id, score in reranked_docs[:5]:\n",
    "            doc = es_client.get(index=index_name, id=doc_id)\n",
    "            final_results.append(doc['_source'])\n",
    "\n",
    "        return final_results\n",
    "\n",
    "def compute_rrf(self, rank, k=60):\n",
    "    \"\"\" Our own implementation of the relevance score \"\"\"\n",
    "    return 1 / (k + rank)\n"
   ]
  },
  {
   "cell_type": "code",
   "execution_count": 7,
   "id": "a97a57e8-185f-4be3-8807-b82480d56dad",
   "metadata": {},
   "outputs": [],
   "source": [
    "prompt_template = \"\"\"\n",
    "You're a movie consault. Answer the QUESTION based on the CONTEXT from our movies database.\n",
    "Use only the facts from the CONTEXT when answering the QUESTION.\n",
    "\n",
    "QUESTION: {question}\n",
    "\n",
    "CONTEXT:\n",
    "{context}\n",
    "\"\"\".strip()\n",
    "\n",
    "entry_template = \"\"\"\n",
    "title: {title}               \n",
    "year: {year}     \n",
    "summary: {summary}     \n",
    "short_summary: {short_summary}     \n",
    "genres: {genres}     \n",
    "imdb_id: {imdb_id}     \n",
    "runtime: {runtime}     \n",
    "youtube_trailer: {youtube_trailer}     \n",
    "rating: {rating}     \n",
    "movie_poster: {movie_poster}     \n",
    "director: {director}     \n",
    "writers: {writers}     \n",
    "cast: {cast}  \n",
    "\"\"\".strip()\n",
    "\n",
    "def build_prompt(query, search_results):\n",
    "    context = \"\"\n",
    "    \n",
    "    for doc in search_results:\n",
    "        context = context + entry_template.format(**doc) + \"\\n\\n\"\n",
    "\n",
    "    prompt = prompt_template.format(question=query, context=context).strip()\n",
    "    return prompt"
   ]
  },
  {
   "cell_type": "code",
   "execution_count": 8,
   "id": "cd9d81b5-594e-4eaf-abca-89fa78b1f694",
   "metadata": {},
   "outputs": [],
   "source": [
    "def rag(query):\n",
    "    search_results = hybrid_search_with_rrf(query)\n",
    "    prompt = build_prompt(query, search_results)\n",
    "    response = client.chat.completions.create(\n",
    "        model= 'gemma2:2b',\n",
    "        messages=[{\"role\": \"user\", \"content\": prompt}],\n",
    "    )\n",
    "    answer = response.choices[0].message.content\n",
    "    return answer"
   ]
  },
  {
   "cell_type": "code",
   "execution_count": 9,
   "id": "b1b9ea3a-fdfb-47cc-a2a1-f17ddd34d92a",
   "metadata": {},
   "outputs": [],
   "source": [
    "#Modify the question to get the answer\n",
    "question = 'Based on the IMDb rating, list top 5 movies.'\n"
   ]
  },
  {
   "cell_type": "code",
   "execution_count": 11,
   "id": "2348fbb3-4c23-45fe-bbe3-c9b0ebdf0d5c",
   "metadata": {},
   "outputs": [],
   "source": [
    "import os"
   ]
  },
  {
   "cell_type": "code",
   "execution_count": 15,
   "id": "c07615f5-1886-471f-8247-2d8fa06b5191",
   "metadata": {},
   "outputs": [],
   "source": [
    "os.environ['TOKENIZERS_PARALLELISM'] = 'false'"
   ]
  },
  {
   "cell_type": "code",
   "execution_count": 17,
   "id": "4783dcaf-8cf0-4d55-b99a-f4d00bbb09ba",
   "metadata": {},
   "outputs": [
    {
     "data": {
      "text/plain": [
       "'Based on the IMDb rating provided in your context, here are the top 5 movies:\\n\\n1. **The Disaster Artist:** 76\\n2. **Split:** 73\\n3. **The LEGO Batman Movie:** 73\\n4. **The Last Movie Star:** 68\\n5. **VHS Massacre:** 60 \\n'"
      ]
     },
     "execution_count": 17,
     "metadata": {},
     "output_type": "execute_result"
    }
   ],
   "source": [
    "rag(question)"
   ]
  }
 ],
 "metadata": {
  "kernelspec": {
   "display_name": "Python 3 (ipykernel)",
   "language": "python",
   "name": "python3"
  },
  "language_info": {
   "codemirror_mode": {
    "name": "ipython",
    "version": 3
   },
   "file_extension": ".py",
   "mimetype": "text/x-python",
   "name": "python",
   "nbconvert_exporter": "python",
   "pygments_lexer": "ipython3",
   "version": "3.9.13"
  }
 },
 "nbformat": 4,
 "nbformat_minor": 5
}
